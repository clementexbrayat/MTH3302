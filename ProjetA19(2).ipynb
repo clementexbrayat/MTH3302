{
 "cells": [
  {
   "cell_type": "markdown",
   "metadata": {},
   "source": [
    "\n",
    "# MTH3302 : Méthodes probabilistes et statistiques pour l'I.A.\n",
    "\n",
    "Jonathan Jalbert<br/>\n",
    "Professeur adjoint au Département de mathématiques et de génie industriel<br/>\n",
    "Polytechnique Montréal<br/>\n",
    "\n",
    "Le projet a été développé à l'aide de Alice Breton, étudiante à la maîtrise en génie informatique. Elle a suivi le cours lors de la session Hiver 2019.\n",
    "\n",
    "\n",
    "\n",
    "# Projet : Débordement d'égouts\n",
    "\n",
    "La description du projet est disponible à l'adresse suivante :\n",
    "https://www.kaggle.com/t/a238b752c33a41d9803c2cdde6bfc929\n",
    "\n",
    "Ce calepin Jupyter de base permet de charger et de nettoyer les données fournies. La dernière section détaille la génération du fichier des prédictions afin de le soumettre sur Kaggle dans le bon format.\n",
    "\n",
    "Dans un premier temps, vous devrez récupérer l'archive *data.zip* sur Moodle. Ce dossier contient les fichiers suivants :\n",
    "- surverses.csv\n",
    "- precipitation.csv\n",
    "- ouvrages-surverses.csv\n",
    "- test.csv\n",
    "\n",
    "Veuillez le décompresser dans le répertoire de ce calepin.\n",
    "\n",
    "Le fichier *surverse.csv* répertorie s'il y a surverse (1) ou non (0) au cours de la journée pour les 170 ouvrages de débordement de 2013 à 2018 pour les mois de mai à octobre (inclusivement). Des renseignements additionnels sur les données sont disponibles à l'adresse suivante :\n",
    "\n",
    "http://donnees.ville.montreal.qc.ca/dataset/debordement\n",
    "\n",
    "\n",
    "Le fichier *precipitation.csv* contient les précipitations horaires en dixième de *mm* enregistrées à 5 stations pluviométriques de 2013 à 2019 :\n",
    "- McTavish (7024745)\n",
    "- Ste-Anne-de-Bellevue (702FHL8)\n",
    "- Montreal/Pierre Elliott Trudeau Intl (702S006)\n",
    "- Montreal/St-Hubert (7027329)\n",
    "- L’Assomption (7014160)\n",
    "\n",
    "Plus d'informations sur les précipitations sont disponibles à l'adresse suivante :\n",
    "\n",
    "https://climat.meteo.gc.ca/climate_data/hourly_data_f.html?hlyRange=2008-01-08%7C2019-11-12&dlyRange=2002-12-23%7C2019-11-12&mlyRange=%7C&StationID=30165&Prov=QC&urlExtension=_f.html&searchType=stnName&optLimit=yearRange&StartYear=1840&EndYear=2019&selRowPerPage=25&Line=17&searchMethod=contains&Month=11&Day=12&txtStationName=montreal&timeframe=1&Year=2019\n",
    "\n",
    "Le fichier *ouvrages-surverses.csv* contient différentes caractéristiques des ouvrages de débordement. \n",
    "\n",
    "http://donnees.ville.montreal.qc.ca/dataset/ouvrage-surverse\n",
    "\n",
    "Le fichier *test.csv* contient les ouvrages et les jours pour lesquels vous devez prédire s'il y a eu surverse (true) ou non (false). Notez que l'on s'intéresse ici à 5 ouvrages de débordement localisés tout autour de l'Ile de Montréal :\n",
    "- 3260-01D dans Rivière-des-Prairies \n",
    "- 3350-07D dans Ahunstic \n",
    "- 4240-01D dans Pointe-aux-Trembles \n",
    "- 4350-01D dans le Vieux-Montréal \n",
    "- 4380-01D dans Verdun\n",
    "\n",
    "#### Remarque\n",
    "\n",
    "Dans le projet, on ne s'intéresse qu'aux surverses occasionnées par les précipitations. On ignore les surverses occasionnées par \n",
    "- fonte de neige (F)\n",
    "- travaux planifiés et entretien (TPL)\n",
    "- urgence (U)\n",
    "- autre (AUT)\n",
    "\n",
    "On suppose que lorsqu'il n'y a pas de raison pour la surverse, il s'agit d'une surverse causée par les précipitations. Puisque Nous nous intéresserons uniquement aux surverses occasionnées par les précipitations liquides, nous ne considérons que les mois de mai à octobre inclusivement."
   ]
  },
  {
   "cell_type": "code",
   "execution_count": 1,
   "metadata": {},
   "outputs": [],
   "source": [
    "using CSV, DataFrames, Statistics, Dates, Gadfly, GLM, Distributions, LinearAlgebra"
   ]
  },
  {
   "cell_type": "markdown",
   "metadata": {},
   "source": [
    "# Chargement des données et nettoyage préliminaire"
   ]
  },
  {
   "cell_type": "markdown",
   "metadata": {},
   "source": [
    "## Chargement des surverses"
   ]
  },
  {
   "cell_type": "code",
   "execution_count": 2,
   "metadata": {},
   "outputs": [
    {
     "ename": "UndefVarError",
     "evalue": "UndefVarError: data not defined",
     "output_type": "error",
     "traceback": [
      "UndefVarError: data not defined",
      "",
      "Stacktrace:",
      " [1] top-level scope at In[2]:2"
     ]
    }
   ],
   "source": [
    "datainit = CSV.read(\"data/surverses.csv\",missingstring=\"-99999\")\n",
    "first(data,5)"
   ]
  },
  {
   "cell_type": "markdown",
   "metadata": {},
   "source": [
    "## Nettoyage des données sur les surverses\n",
    "\n",
    "#### Extraction des surverses pour les mois de mai à octobre inclusivement"
   ]
  },
  {
   "cell_type": "code",
   "execution_count": 3,
   "metadata": {},
   "outputs": [
    {
     "ename": "UndefVarError",
     "evalue": "UndefVarError: data not defined",
     "output_type": "error",
     "traceback": [
      "UndefVarError: data not defined",
      "",
      "Stacktrace:",
      " [1] top-level scope at In[3]:3"
     ]
    }
   ],
   "source": [
    "datainit = filter(row -> month(row.DATE) > 4, datainit) \n",
    "datainit = filter(row -> month(row.DATE) < 11, datainit) \n",
    "first(data,5)"
   ]
  },
  {
   "cell_type": "markdown",
   "metadata": {},
   "source": [
    "#### Remplacement des valeurs *missing* dans la colonne :RAISON par \"Inconnue\""
   ]
  },
  {
   "cell_type": "code",
   "execution_count": 4,
   "metadata": {},
   "outputs": [
    {
     "data": {
      "text/html": [
       "<table class=\"data-frame\"><thead><tr><th></th><th>NO_OUVRAGE</th><th>DATE</th><th>SURVERSE</th><th>RAISON</th></tr><tr><th></th><th>String</th><th>Date</th><th>Int64⍰</th><th>String</th></tr></thead><tbody><p>5 rows × 4 columns</p><tr><th>1</th><td>0642-01D</td><td>2013-05-01</td><td>0</td><td>Inconnue</td></tr><tr><th>2</th><td>0642-01D</td><td>2013-05-02</td><td>0</td><td>Inconnue</td></tr><tr><th>3</th><td>0642-01D</td><td>2013-05-03</td><td>0</td><td>Inconnue</td></tr><tr><th>4</th><td>0642-01D</td><td>2013-05-04</td><td>0</td><td>Inconnue</td></tr><tr><th>5</th><td>0642-01D</td><td>2013-05-05</td><td>0</td><td>Inconnue</td></tr></tbody></table>"
      ],
      "text/latex": [
       "\\begin{tabular}{r|cccc}\n",
       "\t& NO\\_OUVRAGE & DATE & SURVERSE & RAISON\\\\\n",
       "\t\\hline\n",
       "\t& String & Date & Int64⍰ & String\\\\\n",
       "\t\\hline\n",
       "\t1 & 0642-01D & 2013-05-01 & 0 & Inconnue \\\\\n",
       "\t2 & 0642-01D & 2013-05-02 & 0 & Inconnue \\\\\n",
       "\t3 & 0642-01D & 2013-05-03 & 0 & Inconnue \\\\\n",
       "\t4 & 0642-01D & 2013-05-04 & 0 & Inconnue \\\\\n",
       "\t5 & 0642-01D & 2013-05-05 & 0 & Inconnue \\\\\n",
       "\\end{tabular}\n"
      ],
      "text/plain": [
       "5×4 DataFrame\n",
       "│ Row │ NO_OUVRAGE │ DATE       │ SURVERSE │ RAISON   │\n",
       "│     │ \u001b[90mString\u001b[39m     │ \u001b[90mDate\u001b[39m       │ \u001b[90mInt64⍰\u001b[39m   │ \u001b[90mString\u001b[39m   │\n",
       "├─────┼────────────┼────────────┼──────────┼──────────┤\n",
       "│ 1   │ 0642-01D   │ 2013-05-01 │ 0        │ Inconnue │\n",
       "│ 2   │ 0642-01D   │ 2013-05-02 │ 0        │ Inconnue │\n",
       "│ 3   │ 0642-01D   │ 2013-05-03 │ 0        │ Inconnue │\n",
       "│ 4   │ 0642-01D   │ 2013-05-04 │ 0        │ Inconnue │\n",
       "│ 5   │ 0642-01D   │ 2013-05-05 │ 0        │ Inconnue │"
      ]
     },
     "execution_count": 4,
     "metadata": {},
     "output_type": "execute_result"
    },
    {
     "name": "stderr",
     "output_type": "stream",
     "text": [
      "┌ Warning: `T` is deprecated, use `nonmissingtype` instead.\n",
      "│   caller = compacttype(::Type, ::Int64) at show.jl:39\n",
      "└ @ DataFrames C:\\Users\\Clément\\.julia\\packages\\DataFrames\\XuYBH\\src\\abstractdataframe\\show.jl:39\n"
     ]
    }
   ],
   "source": [
    "raison = coalesce.(datainit[:,:RAISON],\"Inconnue\")\n",
    "datainit[!,:RAISON] = raison\n",
    "first(datainit,5)"
   ]
  },
  {
   "cell_type": "markdown",
   "metadata": {},
   "source": [
    "#### Exlusion des surverses coccasionnées par d'autres facteurs que les précipitations liquides\n",
    "\n",
    "Ces facteurs correspondent à : \n",
    "- la fonte de neige (F), \n",
    "- les travaux planifiés et entretien (TPL)\n",
    "- urgence (U)\n",
    "- autre (AUT)"
   ]
  },
  {
   "cell_type": "code",
   "execution_count": 5,
   "metadata": {},
   "outputs": [
    {
     "data": {
      "text/html": [
       "<table class=\"data-frame\"><thead><tr><th></th><th>NO_OUVRAGE</th><th>DATE</th><th>SURVERSE</th></tr><tr><th></th><th>String</th><th>Date</th><th>Int64⍰</th></tr></thead><tbody><p>5 rows × 3 columns</p><tr><th>1</th><td>0642-01D</td><td>2013-05-01</td><td>0</td></tr><tr><th>2</th><td>0642-01D</td><td>2013-05-02</td><td>0</td></tr><tr><th>3</th><td>0642-01D</td><td>2013-05-03</td><td>0</td></tr><tr><th>4</th><td>0642-01D</td><td>2013-05-04</td><td>0</td></tr><tr><th>5</th><td>0642-01D</td><td>2013-05-05</td><td>0</td></tr></tbody></table>"
      ],
      "text/latex": [
       "\\begin{tabular}{r|ccc}\n",
       "\t& NO\\_OUVRAGE & DATE & SURVERSE\\\\\n",
       "\t\\hline\n",
       "\t& String & Date & Int64⍰\\\\\n",
       "\t\\hline\n",
       "\t1 & 0642-01D & 2013-05-01 & 0 \\\\\n",
       "\t2 & 0642-01D & 2013-05-02 & 0 \\\\\n",
       "\t3 & 0642-01D & 2013-05-03 & 0 \\\\\n",
       "\t4 & 0642-01D & 2013-05-04 & 0 \\\\\n",
       "\t5 & 0642-01D & 2013-05-05 & 0 \\\\\n",
       "\\end{tabular}\n"
      ],
      "text/plain": [
       "5×3 DataFrame\n",
       "│ Row │ NO_OUVRAGE │ DATE       │ SURVERSE │\n",
       "│     │ \u001b[90mString\u001b[39m     │ \u001b[90mDate\u001b[39m       │ \u001b[90mInt64⍰\u001b[39m   │\n",
       "├─────┼────────────┼────────────┼──────────┤\n",
       "│ 1   │ 0642-01D   │ 2013-05-01 │ 0        │\n",
       "│ 2   │ 0642-01D   │ 2013-05-02 │ 0        │\n",
       "│ 3   │ 0642-01D   │ 2013-05-03 │ 0        │\n",
       "│ 4   │ 0642-01D   │ 2013-05-04 │ 0        │\n",
       "│ 5   │ 0642-01D   │ 2013-05-05 │ 0        │"
      ]
     },
     "execution_count": 5,
     "metadata": {},
     "output_type": "execute_result"
    }
   ],
   "source": [
    "data = filter(row -> row.RAISON ∈ [\"P\",\"Inconnue\",\"TS\"], datainit) \n",
    "select!(data, [:NO_OUVRAGE, :DATE, :SURVERSE])\n",
    "select!(datainit, [:NO_OUVRAGE, :DATE, :SURVERSE])\n",
    "first(data,5)"
   ]
  },
  {
   "cell_type": "markdown",
   "metadata": {},
   "source": [
    "#### Exclusion des lignes où :SURVERSE est manquante"
   ]
  },
  {
   "cell_type": "code",
   "execution_count": 6,
   "metadata": {},
   "outputs": [
    {
     "data": {
      "text/html": [
       "<table class=\"data-frame\"><thead><tr><th></th><th>NO_OUVRAGE</th><th>DATE</th><th>SURVERSE</th></tr><tr><th></th><th>String</th><th>Date</th><th>Int64</th></tr></thead><tbody><p>5 rows × 3 columns</p><tr><th>1</th><td>0642-01D</td><td>2013-05-01</td><td>0</td></tr><tr><th>2</th><td>0642-01D</td><td>2013-05-02</td><td>0</td></tr><tr><th>3</th><td>0642-01D</td><td>2013-05-03</td><td>0</td></tr><tr><th>4</th><td>0642-01D</td><td>2013-05-04</td><td>0</td></tr><tr><th>5</th><td>0642-01D</td><td>2013-05-05</td><td>0</td></tr></tbody></table>"
      ],
      "text/latex": [
       "\\begin{tabular}{r|ccc}\n",
       "\t& NO\\_OUVRAGE & DATE & SURVERSE\\\\\n",
       "\t\\hline\n",
       "\t& String & Date & Int64\\\\\n",
       "\t\\hline\n",
       "\t1 & 0642-01D & 2013-05-01 & 0 \\\\\n",
       "\t2 & 0642-01D & 2013-05-02 & 0 \\\\\n",
       "\t3 & 0642-01D & 2013-05-03 & 0 \\\\\n",
       "\t4 & 0642-01D & 2013-05-04 & 0 \\\\\n",
       "\t5 & 0642-01D & 2013-05-05 & 0 \\\\\n",
       "\\end{tabular}\n"
      ],
      "text/plain": [
       "5×3 DataFrame\n",
       "│ Row │ NO_OUVRAGE │ DATE       │ SURVERSE │\n",
       "│     │ \u001b[90mString\u001b[39m     │ \u001b[90mDate\u001b[39m       │ \u001b[90mInt64\u001b[39m    │\n",
       "├─────┼────────────┼────────────┼──────────┤\n",
       "│ 1   │ 0642-01D   │ 2013-05-01 │ 0        │\n",
       "│ 2   │ 0642-01D   │ 2013-05-02 │ 0        │\n",
       "│ 3   │ 0642-01D   │ 2013-05-03 │ 0        │\n",
       "│ 4   │ 0642-01D   │ 2013-05-04 │ 0        │\n",
       "│ 5   │ 0642-01D   │ 2013-05-05 │ 0        │"
      ]
     },
     "execution_count": 6,
     "metadata": {},
     "output_type": "execute_result"
    }
   ],
   "source": [
    "surverse_df_init = dropmissing(datainit, disallowmissing=true)\n",
    "surverse_df = dropmissing(data, disallowmissing=true)\n",
    "first(surverse_df,5)"
   ]
  },
  {
   "cell_type": "markdown",
   "metadata": {},
   "source": [
    "## Chargement des précipitations"
   ]
  },
  {
   "cell_type": "code",
   "execution_count": 7,
   "metadata": {},
   "outputs": [
    {
     "data": {
      "text/html": [
       "<table class=\"data-frame\"><thead><tr><th></th><th>date</th><th>heure</th><th>McTavish</th><th>Bellevue</th><th>Assomption</th><th>Trudeau</th><th>StHubert</th></tr><tr><th></th><th>Date</th><th>Int64</th><th>Int64⍰</th><th>Int64⍰</th><th>Int64⍰</th><th>Int64⍰</th><th>Int64⍰</th></tr></thead><tbody><p>5 rows × 7 columns</p><tr><th>1</th><td>2013-01-01</td><td>0</td><td>0</td><td>0</td><td>0</td><td>0</td><td>missing</td></tr><tr><th>2</th><td>2013-01-01</td><td>1</td><td>0</td><td>0</td><td>0</td><td>0</td><td>missing</td></tr><tr><th>3</th><td>2013-01-01</td><td>2</td><td>0</td><td>0</td><td>0</td><td>0</td><td>missing</td></tr><tr><th>4</th><td>2013-01-01</td><td>3</td><td>0</td><td>0</td><td>0</td><td>0</td><td>missing</td></tr><tr><th>5</th><td>2013-01-01</td><td>4</td><td>0</td><td>0</td><td>0</td><td>0</td><td>missing</td></tr></tbody></table>"
      ],
      "text/latex": [
       "\\begin{tabular}{r|ccccccc}\n",
       "\t& date & heure & McTavish & Bellevue & Assomption & Trudeau & StHubert\\\\\n",
       "\t\\hline\n",
       "\t& Date & Int64 & Int64⍰ & Int64⍰ & Int64⍰ & Int64⍰ & Int64⍰\\\\\n",
       "\t\\hline\n",
       "\t1 & 2013-01-01 & 0 & 0 & 0 & 0 & 0 &  \\\\\n",
       "\t2 & 2013-01-01 & 1 & 0 & 0 & 0 & 0 &  \\\\\n",
       "\t3 & 2013-01-01 & 2 & 0 & 0 & 0 & 0 &  \\\\\n",
       "\t4 & 2013-01-01 & 3 & 0 & 0 & 0 & 0 &  \\\\\n",
       "\t5 & 2013-01-01 & 4 & 0 & 0 & 0 & 0 &  \\\\\n",
       "\\end{tabular}\n"
      ],
      "text/plain": [
       "5×7 DataFrame. Omitted printing of 1 columns\n",
       "│ Row │ date       │ heure │ McTavish │ Bellevue │ Assomption │ Trudeau │\n",
       "│     │ \u001b[90mDate\u001b[39m       │ \u001b[90mInt64\u001b[39m │ \u001b[90mInt64⍰\u001b[39m   │ \u001b[90mInt64⍰\u001b[39m   │ \u001b[90mInt64⍰\u001b[39m     │ \u001b[90mInt64⍰\u001b[39m  │\n",
       "├─────┼────────────┼───────┼──────────┼──────────┼────────────┼─────────┤\n",
       "│ 1   │ 2013-01-01 │ 0     │ 0        │ 0        │ 0          │ 0       │\n",
       "│ 2   │ 2013-01-01 │ 1     │ 0        │ 0        │ 0          │ 0       │\n",
       "│ 3   │ 2013-01-01 │ 2     │ 0        │ 0        │ 0          │ 0       │\n",
       "│ 4   │ 2013-01-01 │ 3     │ 0        │ 0        │ 0          │ 0       │\n",
       "│ 5   │ 2013-01-01 │ 4     │ 0        │ 0        │ 0          │ 0       │"
      ]
     },
     "execution_count": 7,
     "metadata": {},
     "output_type": "execute_result"
    }
   ],
   "source": [
    "data = CSV.read(\"data/precipitations.csv\",missingstring=\"-99999\")\n",
    "rename!(data, Symbol(\"St-Hubert\")=>:StHubert)\n",
    "first(data,5)"
   ]
  },
  {
   "cell_type": "markdown",
   "metadata": {},
   "source": [
    "## Nettoyage des données sur les précipitations\n",
    "\n",
    "#### Extraction des précipitations des mois de mai à octobre inclusivement"
   ]
  },
  {
   "cell_type": "code",
   "execution_count": 8,
   "metadata": {},
   "outputs": [
    {
     "data": {
      "text/html": [
       "<table class=\"data-frame\"><thead><tr><th></th><th>date</th><th>heure</th><th>McTavish</th><th>Bellevue</th><th>Assomption</th><th>Trudeau</th><th>StHubert</th></tr><tr><th></th><th>Date</th><th>Int64</th><th>Int64⍰</th><th>Int64⍰</th><th>Int64⍰</th><th>Int64⍰</th><th>Int64⍰</th></tr></thead><tbody><p>5 rows × 7 columns</p><tr><th>1</th><td>2013-05-01</td><td>0</td><td>0</td><td>0</td><td>0</td><td>0</td><td>missing</td></tr><tr><th>2</th><td>2013-05-01</td><td>1</td><td>0</td><td>0</td><td>0</td><td>0</td><td>missing</td></tr><tr><th>3</th><td>2013-05-01</td><td>2</td><td>0</td><td>0</td><td>0</td><td>0</td><td>missing</td></tr><tr><th>4</th><td>2013-05-01</td><td>3</td><td>0</td><td>0</td><td>0</td><td>0</td><td>missing</td></tr><tr><th>5</th><td>2013-05-01</td><td>4</td><td>0</td><td>0</td><td>0</td><td>0</td><td>missing</td></tr></tbody></table>"
      ],
      "text/latex": [
       "\\begin{tabular}{r|ccccccc}\n",
       "\t& date & heure & McTavish & Bellevue & Assomption & Trudeau & StHubert\\\\\n",
       "\t\\hline\n",
       "\t& Date & Int64 & Int64⍰ & Int64⍰ & Int64⍰ & Int64⍰ & Int64⍰\\\\\n",
       "\t\\hline\n",
       "\t1 & 2013-05-01 & 0 & 0 & 0 & 0 & 0 &  \\\\\n",
       "\t2 & 2013-05-01 & 1 & 0 & 0 & 0 & 0 &  \\\\\n",
       "\t3 & 2013-05-01 & 2 & 0 & 0 & 0 & 0 &  \\\\\n",
       "\t4 & 2013-05-01 & 3 & 0 & 0 & 0 & 0 &  \\\\\n",
       "\t5 & 2013-05-01 & 4 & 0 & 0 & 0 & 0 &  \\\\\n",
       "\\end{tabular}\n"
      ],
      "text/plain": [
       "5×7 DataFrame. Omitted printing of 1 columns\n",
       "│ Row │ date       │ heure │ McTavish │ Bellevue │ Assomption │ Trudeau │\n",
       "│     │ \u001b[90mDate\u001b[39m       │ \u001b[90mInt64\u001b[39m │ \u001b[90mInt64⍰\u001b[39m   │ \u001b[90mInt64⍰\u001b[39m   │ \u001b[90mInt64⍰\u001b[39m     │ \u001b[90mInt64⍰\u001b[39m  │\n",
       "├─────┼────────────┼───────┼──────────┼──────────┼────────────┼─────────┤\n",
       "│ 1   │ 2013-05-01 │ 0     │ 0        │ 0        │ 0          │ 0       │\n",
       "│ 2   │ 2013-05-01 │ 1     │ 0        │ 0        │ 0          │ 0       │\n",
       "│ 3   │ 2013-05-01 │ 2     │ 0        │ 0        │ 0          │ 0       │\n",
       "│ 4   │ 2013-05-01 │ 3     │ 0        │ 0        │ 0          │ 0       │\n",
       "│ 5   │ 2013-05-01 │ 4     │ 0        │ 0        │ 0          │ 0       │"
      ]
     },
     "execution_count": 8,
     "metadata": {},
     "output_type": "execute_result"
    }
   ],
   "source": [
    "data = filter(row -> month(row.date) > 4, data) \n",
    "data = filter(row -> month(row.date) < 11, data) \n",
    "first(data,5)"
   ]
  },
  {
   "cell_type": "markdown",
   "metadata": {},
   "source": [
    "# Analyse exploratoire\n",
    "\n",
    "Cette section consitue une analyse exploratoire superficielle permettant de voir s'il existe un lien entre les précipitations et les surverses.\n",
    "\n",
    "Prenons arbitrairement l'ouvrage de débordement près du Bota-Bota (4350-01D). La station météorologique la plus proche est McTavish. Prenons deux variables explicatives simple :\n",
    "- la somme journalière des précipitations\n",
    "- le taux horaire maximum journalier de précipitations\n",
    "\n",
    "#### Calcul de la quantité journalière de précipitations pour chacune des stations météorologiques"
   ]
  },
  {
   "cell_type": "code",
   "execution_count": 9,
   "metadata": {
    "scrolled": true
   },
   "outputs": [
    {
     "data": {
      "text/html": [
       "<table class=\"data-frame\"><thead><tr><th></th><th>date</th><th>McTavish</th><th>Bellevue</th><th>Assomption</th><th>Trudeau</th><th>StHubert</th></tr><tr><th></th><th>Date</th><th>Int64⍰</th><th>Int64⍰</th><th>Int64⍰</th><th>Int64⍰</th><th>Int64⍰</th></tr></thead><tbody><p>5 rows × 6 columns</p><tr><th>1</th><td>2013-05-01</td><td>0</td><td>0</td><td>0</td><td>0</td><td>missing</td></tr><tr><th>2</th><td>2013-05-02</td><td>0</td><td>0</td><td>0</td><td>0</td><td>missing</td></tr><tr><th>3</th><td>2013-05-03</td><td>0</td><td>0</td><td>0</td><td>0</td><td>missing</td></tr><tr><th>4</th><td>2013-05-04</td><td>0</td><td>0</td><td>0</td><td>0</td><td>missing</td></tr><tr><th>5</th><td>2013-05-05</td><td>0</td><td>0</td><td>0</td><td>0</td><td>missing</td></tr></tbody></table>"
      ],
      "text/latex": [
       "\\begin{tabular}{r|cccccc}\n",
       "\t& date & McTavish & Bellevue & Assomption & Trudeau & StHubert\\\\\n",
       "\t\\hline\n",
       "\t& Date & Int64⍰ & Int64⍰ & Int64⍰ & Int64⍰ & Int64⍰\\\\\n",
       "\t\\hline\n",
       "\t1 & 2013-05-01 & 0 & 0 & 0 & 0 &  \\\\\n",
       "\t2 & 2013-05-02 & 0 & 0 & 0 & 0 &  \\\\\n",
       "\t3 & 2013-05-03 & 0 & 0 & 0 & 0 &  \\\\\n",
       "\t4 & 2013-05-04 & 0 & 0 & 0 & 0 &  \\\\\n",
       "\t5 & 2013-05-05 & 0 & 0 & 0 & 0 &  \\\\\n",
       "\\end{tabular}\n"
      ],
      "text/plain": [
       "5×6 DataFrame\n",
       "│ Row │ date       │ McTavish │ Bellevue │ Assomption │ Trudeau │ StHubert │\n",
       "│     │ \u001b[90mDate\u001b[39m       │ \u001b[90mInt64⍰\u001b[39m   │ \u001b[90mInt64⍰\u001b[39m   │ \u001b[90mInt64⍰\u001b[39m     │ \u001b[90mInt64⍰\u001b[39m  │ \u001b[90mInt64⍰\u001b[39m   │\n",
       "├─────┼────────────┼──────────┼──────────┼────────────┼─────────┼──────────┤\n",
       "│ 1   │ 2013-05-01 │ 0        │ 0        │ 0          │ 0       │ \u001b[90mmissing\u001b[39m  │\n",
       "│ 2   │ 2013-05-02 │ 0        │ 0        │ 0          │ 0       │ \u001b[90mmissing\u001b[39m  │\n",
       "│ 3   │ 2013-05-03 │ 0        │ 0        │ 0          │ 0       │ \u001b[90mmissing\u001b[39m  │\n",
       "│ 4   │ 2013-05-04 │ 0        │ 0        │ 0          │ 0       │ \u001b[90mmissing\u001b[39m  │\n",
       "│ 5   │ 2013-05-05 │ 0        │ 0        │ 0          │ 0       │ \u001b[90mmissing\u001b[39m  │"
      ]
     },
     "execution_count": 9,
     "metadata": {},
     "output_type": "execute_result"
    }
   ],
   "source": [
    "pcp_sum = by(data, :date,  McTavish = :McTavish=>sum, Bellevue = :Bellevue=>sum, \n",
    "   Assomption = :Assomption=>sum, Trudeau = :Trudeau=>sum, StHubert = :StHubert=>sum)\n",
    "first(pcp_sum ,5)"
   ]
  },
  {
   "cell_type": "markdown",
   "metadata": {},
   "source": [
    "#### Extraction du taux horaire journalier maximum des précipitations pour chacune des stations météorologiques"
   ]
  },
  {
   "cell_type": "code",
   "execution_count": 10,
   "metadata": {},
   "outputs": [
    {
     "name": "stderr",
     "output_type": "stream",
     "text": [
      "┌ Warning: `T` is deprecated, use `nonmissingtype` instead.\n",
      "│   caller = groupreduce_init(::typeof(max), ::Nothing, ::Array{Union{Missing, Int64},1}, ::GroupedDataFrame{DataFrame}) at grouping.jl:560\n",
      "└ @ DataFrames C:\\Users\\Clément\\.julia\\packages\\DataFrames\\XuYBH\\src\\groupeddataframe\\grouping.jl:560\n"
     ]
    },
    {
     "data": {
      "text/html": [
       "<table class=\"data-frame\"><thead><tr><th></th><th>date</th><th>McTavish</th><th>Bellevue</th><th>Assomption</th><th>Trudeau</th><th>StHubert</th></tr><tr><th></th><th>Date</th><th>Int64⍰</th><th>Int64⍰</th><th>Int64⍰</th><th>Int64⍰</th><th>Int64⍰</th></tr></thead><tbody><p>5 rows × 6 columns</p><tr><th>1</th><td>2013-05-01</td><td>0</td><td>0</td><td>0</td><td>0</td><td>missing</td></tr><tr><th>2</th><td>2013-05-02</td><td>0</td><td>0</td><td>0</td><td>0</td><td>missing</td></tr><tr><th>3</th><td>2013-05-03</td><td>0</td><td>0</td><td>0</td><td>0</td><td>missing</td></tr><tr><th>4</th><td>2013-05-04</td><td>0</td><td>0</td><td>0</td><td>0</td><td>missing</td></tr><tr><th>5</th><td>2013-05-05</td><td>0</td><td>0</td><td>0</td><td>0</td><td>missing</td></tr></tbody></table>"
      ],
      "text/latex": [
       "\\begin{tabular}{r|cccccc}\n",
       "\t& date & McTavish & Bellevue & Assomption & Trudeau & StHubert\\\\\n",
       "\t\\hline\n",
       "\t& Date & Int64⍰ & Int64⍰ & Int64⍰ & Int64⍰ & Int64⍰\\\\\n",
       "\t\\hline\n",
       "\t1 & 2013-05-01 & 0 & 0 & 0 & 0 &  \\\\\n",
       "\t2 & 2013-05-02 & 0 & 0 & 0 & 0 &  \\\\\n",
       "\t3 & 2013-05-03 & 0 & 0 & 0 & 0 &  \\\\\n",
       "\t4 & 2013-05-04 & 0 & 0 & 0 & 0 &  \\\\\n",
       "\t5 & 2013-05-05 & 0 & 0 & 0 & 0 &  \\\\\n",
       "\\end{tabular}\n"
      ],
      "text/plain": [
       "5×6 DataFrame\n",
       "│ Row │ date       │ McTavish │ Bellevue │ Assomption │ Trudeau │ StHubert │\n",
       "│     │ \u001b[90mDate\u001b[39m       │ \u001b[90mInt64⍰\u001b[39m   │ \u001b[90mInt64⍰\u001b[39m   │ \u001b[90mInt64⍰\u001b[39m     │ \u001b[90mInt64⍰\u001b[39m  │ \u001b[90mInt64⍰\u001b[39m   │\n",
       "├─────┼────────────┼──────────┼──────────┼────────────┼─────────┼──────────┤\n",
       "│ 1   │ 2013-05-01 │ 0        │ 0        │ 0          │ 0       │ \u001b[90mmissing\u001b[39m  │\n",
       "│ 2   │ 2013-05-02 │ 0        │ 0        │ 0          │ 0       │ \u001b[90mmissing\u001b[39m  │\n",
       "│ 3   │ 2013-05-03 │ 0        │ 0        │ 0          │ 0       │ \u001b[90mmissing\u001b[39m  │\n",
       "│ 4   │ 2013-05-04 │ 0        │ 0        │ 0          │ 0       │ \u001b[90mmissing\u001b[39m  │\n",
       "│ 5   │ 2013-05-05 │ 0        │ 0        │ 0          │ 0       │ \u001b[90mmissing\u001b[39m  │"
      ]
     },
     "execution_count": 10,
     "metadata": {},
     "output_type": "execute_result"
    }
   ],
   "source": [
    "pcp_max = by(data, :date,  McTavish = :McTavish=>maximum, Bellevue = :Bellevue=>maximum, \n",
    "   Assomption = :Assomption=>maximum, Trudeau = :Trudeau=>maximum, StHubert = :StHubert=>maximum)\n",
    "first(pcp_max,5)"
   ]
  },
  {
   "cell_type": "markdown",
   "metadata": {},
   "source": [
    "#### Inclusion dans un dataframe de ces deux variables explicatives potentielles"
   ]
  },
  {
   "cell_type": "code",
   "execution_count": 11,
   "metadata": {},
   "outputs": [],
   "source": [
    "ouvrage1 = \"4350-01D\"\n",
    "ouvrage2 = \"3260-01D\"\n",
    "ouvrage3 = \"3350-07D\"\n",
    "ouvrage4 = \"4240-01D\"\n",
    "ouvrage5 = \"4380-01D\"\n",
    "df0 = filter(row -> row.NO_OUVRAGE == ouvrage1, surverse_df_init)\n",
    "df1 = filter(row -> row.NO_OUVRAGE == ouvrage1, surverse_df)\n",
    "df2 = filter(row -> row.NO_OUVRAGE == ouvrage2, surverse_df)\n",
    "df3 = filter(row -> row.NO_OUVRAGE == ouvrage3, surverse_df)\n",
    "df4 = filter(row -> row.NO_OUVRAGE == ouvrage4, surverse_df)\n",
    "df5 = filter(row -> row.NO_OUVRAGE == ouvrage5, surverse_df)\n",
    "\n",
    "#print(size(df5,1))\n",
    "n = size(df0,1) #max des size des dfs\n",
    "\n",
    "x1 = Array{Union{Missing, Int64}}(missing, n) # variable pour la somme journalière\n",
    "x3 = Array{Union{Missing, Int64}}(missing, n) # variable pour la somme journalière\n",
    "x5 = Array{Union{Missing, Int64}}(missing, n) # variable pour la somme journalière\n",
    "x7 = Array{Union{Missing, Int64}}(missing, n) # variable pour la somme journalière\n",
    "x9 = Array{Union{Missing, Int64}}(missing, n) # variable pour la somme journalière\n",
    "x2 = Array{Union{Missing, Int64}}(missing, n) # variable pour le max journalier\n",
    "x4 = Array{Union{Missing, Int64}}(missing, n) # variable pour le max journalier\n",
    "x6 = Array{Union{Missing, Int64}}(missing, n) # variable pour le max journalier\n",
    "x8 = Array{Union{Missing, Int64}}(missing, n) # variable pour le max journalier\n",
    "x10 = Array{Union{Missing, Int64}}(missing, n) # variable pour le max journalier\n",
    "\n",
    "for i=1:size(df0,1)\n",
    "    \n",
    "    ind1 = findfirst(pcp_sum[:,:date] .== df0[i,:DATE])\n",
    "    ind2 = findfirst(pcp_max[:,:date] .== df0[i,:DATE])\n",
    "    \n",
    "    #McTavish\n",
    "    x1[i] = pcp_sum[ind1,:McTavish]\n",
    "    \n",
    "    x2[i] = pcp_max[ind2,:McTavish]\n",
    "    #Bellevue\n",
    "    x3[i] = pcp_sum[ind1,:Bellevue]\n",
    "    \n",
    "    x4[i] = pcp_max[ind2,:Bellevue]\n",
    "    #Assomption\n",
    "    x5[i] = pcp_sum[ind1,:Assomption]\n",
    "    \n",
    "    x6[i] = pcp_max[ind2,:Assomption]\n",
    "    #Trudeau\n",
    "    x7[i] = pcp_sum[ind1,:Trudeau]\n",
    "    \n",
    "    x8[i] = pcp_max[ind2,:Trudeau]\n",
    "    #StHubert\n",
    "    x9[i] = pcp_sum[ind1,:StHubert]\n",
    "    \n",
    "    x10[i] = pcp_max[ind2,:StHubert]\n",
    "    \n",
    "end"
   ]
  },
  {
   "cell_type": "code",
   "execution_count": 14,
   "metadata": {},
   "outputs": [],
   "source": [
    "X = [x1,x2,x3,x4,x5,x6,x7,x8,x9,x10]\n",
    "for i=1:10\n",
    "    xi = X[i]\n",
    "    for j=1:size(xi,1)\n",
    "        if isequal(missing, xi[j])\n",
    "            s = 0\n",
    "            c = 0\n",
    "            if i%2 == 0\n",
    "                for k=1:5\n",
    "                    if isequal(missing, X[2*k][j])\n",
    "                           s=s\n",
    "                    else \n",
    "                        s += X[2*k][j]\n",
    "                        c += 1\n",
    "                    end\n",
    "                end \n",
    "            else\n",
    "                for k=1:5\n",
    "                    if isequal(missing, X[2*(k-1) + 1][j])\n",
    "                           s=s\n",
    "                    else \n",
    "                        s += X[2*(k-1) + 1][j]\n",
    "                        c += 1\n",
    "                    end\n",
    "                end\n",
    "            end\n",
    "            if c == 0\n",
    "                xi[j] = 0\n",
    "            else \n",
    "                xi[j] = floor(s/c)\n",
    "            end\n",
    "        end\n",
    "    end\n",
    "end"
   ]
  },
  {
   "cell_type": "code",
   "execution_count": 15,
   "metadata": {},
   "outputs": [],
   "source": [
    "DF = [df1,df2,df3,df4,df5]\n",
    "for df in DF\n",
    "    x1c=copy(x1)\n",
    "    x2c=copy(x2)\n",
    "    x3c=copy(x3)\n",
    "    x4c=copy(x4)\n",
    "    x5c=copy(x5)\n",
    "    x6c=copy(x6)\n",
    "    x7c=copy(x7)\n",
    "    x8c=copy(x8)\n",
    "    x9c=copy(x9)\n",
    "    x10c=copy(x10)\n",
    "    Xc = [x1c,x2c,x3c,x4c,x5c,x6c,x7c,x8c,x9c,x10c]\n",
    "    for j=1:size(df0,1)\n",
    "        i = size(df0,1) + 1 - j\n",
    "        date = df0[i,:DATE]\n",
    "        if size(filter(row -> row.DATE == date, df),1)==0\n",
    "            for xic in Xc\n",
    "                deleteat!(xic, i)\n",
    "            end\n",
    "        end\n",
    "    end\n",
    "    df[!,:x1] = x1c\n",
    "    df[!,:x2] = x2c\n",
    "    df[!,:x3] = x3c\n",
    "    df[!,:x4] = x4c\n",
    "    df[!,:x5] = x5c\n",
    "    df[!,:x6] = x6c\n",
    "    df[!,:x7] = x7c\n",
    "    df[!,:x8] = x8c\n",
    "    df[!,:x9] = x9c\n",
    "    df[!,:x10] = x10c\n",
    "end"
   ]
  },
  {
   "cell_type": "code",
   "execution_count": 16,
   "metadata": {},
   "outputs": [],
   "source": [
    "M1 = glm(@formula(SURVERSE ~ x1+x2+x3+x4+x5+x6+x7+x8+x9+x10), df1,  Bernoulli(), LogitLink())\n",
    "M2 = glm(@formula(SURVERSE ~ x1+x2+x3+x4+x5+x6+x7+x8+x9+x10), df2,  Bernoulli(), LogitLink())\n",
    "M3 = glm(@formula(SURVERSE ~ x1+x2+x3+x4+x5+x6+x7+x8+x9+x10), df3,  Bernoulli(), LogitLink())\n",
    "M4 = glm(@formula(SURVERSE ~ x1+x2+x3+x4+x5+x6+x7+x8+x9+x10), df4,  Bernoulli(), LogitLink())\n",
    "M5 = glm(@formula(SURVERSE ~ x1+x2+x3+x4+x5+x6+x7+x8+x9+x10), df5,  Bernoulli(), LogitLink())\n",
    "print(\"\")"
   ]
  },
  {
   "cell_type": "markdown",
   "metadata": {},
   "source": [
    "#### Traçage des distribution de la somme des précipitations en fonction des surverses ou non\n",
    "\n",
    "On remarque que les deux distributions sont très différentes. Ceci suggère que la somme des précipitations à la station McTavish a un effet sur les surverses au Bota-Bota."
   ]
  },
  {
   "cell_type": "code",
   "execution_count": 17,
   "metadata": {},
   "outputs": [],
   "source": [
    "#plot(df1, x=:SURVERSE, y=:x1, Geom.boxplot)"
   ]
  },
  {
   "cell_type": "markdown",
   "metadata": {},
   "source": [
    "#### Traçage des distribution de la somme des précipitations en fonction des surverses ou non\n",
    "\n",
    "On remarque que les deux distributions sont très différentes. Ceci suggère que le maximum journalier des précipitations à la station McTavish a un effet sur les surverses au Bota-Bota."
   ]
  },
  {
   "cell_type": "code",
   "execution_count": 18,
   "metadata": {},
   "outputs": [],
   "source": [
    "#plot(df, x=:SURVERSE, y=:MAX, Geom.boxplot)"
   ]
  },
  {
   "cell_type": "markdown",
   "metadata": {},
   "source": [
    "# Création du fichier de prédictions pour soumettre sur Kaggle\n",
    "\n",
    "Dans ce cas-ci, nous prédirons une surverse avec une probabilité de 1/2 sans considérer aucune variable explicative."
   ]
  },
  {
   "cell_type": "code",
   "execution_count": 19,
   "metadata": {},
   "outputs": [
    {
     "data": {
      "text/plain": [
       "283"
      ]
     },
     "execution_count": 19,
     "metadata": {},
     "output_type": "execute_result"
    }
   ],
   "source": [
    "# Chargement du fichier de test\n",
    "test = CSV.read(\"data/test.csv\")\n",
    "\n",
    "# Pour chacune des lignes du fichier test, comportant un ouvrage et une date, une prédiction est requise.\n",
    "# Dans ce cas-ci, utilisons une prédiction les plus naîve. \n",
    "# On prédit avec une chance sur deux qu'il y ait surverse, sans utiliser de variables explicatives\n",
    "n0 = size(test,1)"
   ]
  },
  {
   "cell_type": "code",
   "execution_count": 30,
   "metadata": {},
   "outputs": [
    {
     "name": "stderr",
     "output_type": "stream",
     "text": [
      "┌ Warning: `getindex(df::DataFrame, col_ind::ColumnIndex)` is deprecated, use `df[!, col_ind]` instead.\n",
      "│   caller = top-level scope at In[30]:6\n",
      "└ @ Core In[30]:6\n"
     ]
    }
   ],
   "source": [
    "df1_ = filter(row -> row.NO_OUVRAGE == ouvrage1, test)\n",
    "df2_ = filter(row -> row.NO_OUVRAGE == ouvrage2, test)\n",
    "df3_ = filter(row -> row.NO_OUVRAGE == ouvrage3, test)\n",
    "df4_ = filter(row -> row.NO_OUVRAGE == ouvrage4, test)\n",
    "df5_ = filter(row -> row.NO_OUVRAGE == ouvrage5, test)\n",
    "\n",
    "df0_ = copy(df1_[:DATE])\n",
    "for df_ in [df2_, df3_, df4_, df5_]\n",
    "    for i=1:size(df_,1)\n",
    "        if (df_[i,:DATE] in df0_)==false\n",
    "            push!(df0_, df_[i,:DATE])\n",
    "        end\n",
    "    end\n",
    "end\n",
    "\n",
    "n = length(df0_)\n",
    "\n",
    "x1_ = Array{Union{Missing, Int64}}(missing, n) # variable pour la somme journalière\n",
    "x3_ = Array{Union{Missing, Int64}}(missing, n) # variable pour la somme journalière\n",
    "x5_ = Array{Union{Missing, Int64}}(missing, n) # variable pour la somme journalière\n",
    "x7_ = Array{Union{Missing, Int64}}(missing, n) # variable pour la somme journalière\n",
    "x9_ = Array{Union{Missing, Int64}}(missing, n) # variable pour la somme journalière\n",
    "x2_ = Array{Union{Missing, Int64}}(missing, n) # variable pour le max journalier\n",
    "x4_ = Array{Union{Missing, Int64}}(missing, n) # variable pour le max journalier\n",
    "x6_ = Array{Union{Missing, Int64}}(missing, n) # variable pour le max journalier\n",
    "x8_ = Array{Union{Missing, Int64}}(missing, n) # variable pour le max journalier\n",
    "x10_ = Array{Union{Missing, Int64}}(missing, n) # variable pour le max journalier\n",
    "\n",
    "for i=1:size(df0_,1)\n",
    "    \n",
    "    ind1 = findfirst(pcp_sum[:,:date] .== df0_[i])\n",
    "    ind2 = findfirst(pcp_max[:,:date] .== df0_[i])\n",
    "    \n",
    "    #McTavish\n",
    "    x1_[i] = pcp_sum[ind1,:McTavish]\n",
    "    \n",
    "    x2_[i] = pcp_max[ind2,:McTavish]\n",
    "    #Bellevue\n",
    "    x3_[i] = pcp_sum[ind1,:Bellevue]\n",
    "    \n",
    "    x4_[i] = pcp_max[ind2,:Bellevue]\n",
    "    #Assomption\n",
    "    x5_[i] = pcp_sum[ind1,:Assomption]\n",
    "    \n",
    "    x6_[i] = pcp_max[ind2,:Assomption]\n",
    "    #Trudeau\n",
    "    x7_[i] = pcp_sum[ind1,:Trudeau]\n",
    "    \n",
    "    x8_[i] = pcp_max[ind2,:Trudeau]\n",
    "    #StHubert\n",
    "    x9_[i] = pcp_sum[ind1,:StHubert]\n",
    "    \n",
    "    x10_[i] = pcp_max[ind2,:StHubert]\n",
    "    \n",
    "end"
   ]
  },
  {
   "cell_type": "code",
   "execution_count": 21,
   "metadata": {},
   "outputs": [],
   "source": [
    "X = [x1_,x2_,x3_,x4_,x5_,x6_,x7_,x8_,x9_,x10_]\n",
    "for xi_ in X\n",
    "    for i=1:size(xi_,1)\n",
    "        if isequal(missing, xi_[i])\n",
    "            xi_[i] = 0\n",
    "        end\n",
    "    end\n",
    "end"
   ]
  },
  {
   "cell_type": "code",
   "execution_count": 31,
   "metadata": {},
   "outputs": [],
   "source": [
    "X = [x1_,x2_,x3_,x4_,x5_,x6_,x7_,x8_,x9_,x10_]\n",
    "for i=1:10\n",
    "    xi = X[i]\n",
    "    for j=1:size(xi,1)\n",
    "        if isequal(missing, xi[j])\n",
    "            s = 0\n",
    "            c = 0\n",
    "            if i%2 == 0\n",
    "                for k=1:5\n",
    "                    if isequal(missing, X[2*k][j])\n",
    "                           s=s\n",
    "                    else \n",
    "                        s += X[2*k][j]\n",
    "                        c += 1\n",
    "                    end\n",
    "                end \n",
    "            else\n",
    "                for k=1:5\n",
    "                    if isequal(missing, X[2*(k-1) + 1][j])\n",
    "                           s=s\n",
    "                    else \n",
    "                        s += X[2*(k-1) + 1][j]\n",
    "                        c += 1\n",
    "                    end\n",
    "                end\n",
    "            end\n",
    "            if c == 0\n",
    "                xi[j] = 0\n",
    "            else \n",
    "                xi[j] = floor(s/c)\n",
    "            end\n",
    "        end\n",
    "    end\n",
    "end"
   ]
  },
  {
   "cell_type": "code",
   "execution_count": 32,
   "metadata": {},
   "outputs": [],
   "source": [
    "df01 = copy(df0_)\n",
    "df02 = copy(df0_)\n",
    "df03 = copy(df0_)\n",
    "df04 = copy(df0_)\n",
    "df05 = copy(df0_)\n",
    "DF0 = [df01,df02,df03,df04,df05]\n",
    "\n",
    "DF = [df1_,df2_,df3_,df4_,df5_]\n",
    "for k=1:5\n",
    "    df_ = DF[k]\n",
    "    x1_c=copy(x1_)\n",
    "    x2_c=copy(x2_)\n",
    "    x3_c=copy(x3_)\n",
    "    x4_c=copy(x4_)\n",
    "    x5_c=copy(x5_)\n",
    "    x6_c=copy(x6_)\n",
    "    x7_c=copy(x7_)\n",
    "    x8_c=copy(x8_)\n",
    "    x9_c=copy(x9_)\n",
    "    x10_c=copy(x10_)\n",
    "    X_c = [x1_c,x2_c,x3_c,x4_c,x5_c,x6_c,x7_c,x8_c,x9_c,x10_c]\n",
    "    for j=1:length(df0_)\n",
    "        i = length(df0_) + 1 - j\n",
    "        date = df0_[i]\n",
    "        if size(filter(row -> row.DATE == date, df_),1)==0\n",
    "            for xi_c in X_c\n",
    "                deleteat!(xi_c, i)\n",
    "            end\n",
    "            deleteat!(DF0[k],i)\n",
    "        end\n",
    "    end\n",
    "    df_[!,:x0] = ones(Int64,length(x1_c))\n",
    "    df_[!,:x1] = x1_c\n",
    "    df_[!,:x2] = x2_c\n",
    "    df_[!,:x3] = x3_c\n",
    "    df_[!,:x4] = x4_c\n",
    "    df_[!,:x5] = x5_c\n",
    "    df_[!,:x6] = x6_c\n",
    "    df_[!,:x7] = x7_c\n",
    "    df_[!,:x8] = x8_c\n",
    "    df_[!,:x9] = x9_c\n",
    "    df_[!,:x10] = x10_c\n",
    "end"
   ]
  },
  {
   "cell_type": "code",
   "execution_count": 33,
   "metadata": {},
   "outputs": [],
   "source": [
    "select!(df1_, [:x0, :x1, :x2, :x3, :x4, :x5, :x6, :x7, :x8, :x9, :x10])\n",
    "teta1 = predict(M1,df1_) \n",
    "select!(df1_, [:x0, :x1, :x2, :x3, :x4, :x5, :x6, :x7, :x8, :x9, :x10])\n",
    "teta2 = predict(M2,df2_) \n",
    "select!(df1_, [:x0, :x1, :x2, :x3, :x4, :x5, :x6, :x7, :x8, :x9, :x10])\n",
    "teta3 = predict(M3,df3_) \n",
    "select!(df1_, [:x0, :x1, :x2, :x3, :x4, :x5, :x6, :x7, :x8, :x9, :x10])\n",
    "teta4 = predict(M4,df4_) \n",
    "select!(df1_, [:x0, :x1, :x2, :x3, :x4, :x5, :x6, :x7, :x8, :x9, :x10])\n",
    "teta5 = predict(M5,df5_) \n",
    "print(\"\")"
   ]
  },
  {
   "cell_type": "code",
   "execution_count": 34,
   "metadata": {},
   "outputs": [],
   "source": [
    "Y1 = zeros(Int64,size(df1_,1))\n",
    "Y2 = zeros(Int64,size(df2_,1))\n",
    "Y3 = zeros(Int64,size(df3_,1))\n",
    "Y4 = zeros(Int64,size(df4_,1))\n",
    "Y5 = zeros(Int64,size(df5_,1))\n",
    "\n",
    "Y1[teta1.>.5] .= 1\n",
    "Y2[teta2.>.5] .= 1\n",
    "Y3[teta3.>.5] .= 1\n",
    "Y4[teta4.>.5] .= 1\n",
    "Y5[teta5.>.5] .= 1\n",
    "print(\"\")"
   ]
  },
  {
   "cell_type": "code",
   "execution_count": 35,
   "metadata": {},
   "outputs": [],
   "source": [
    "#Création de surverse test :\n",
    "surverse = zeros(Int64, n0)\n",
    "for i=1:n0\n",
    "    ouvrage = test[i,:NO_OUVRAGE]\n",
    "    date = test[i,:DATE]\n",
    "    if ouvrage == ouvrage1\n",
    "        ind = findfirst(df01[:] .== date)\n",
    "        surverse[i] = Y1[ind]\n",
    "    end\n",
    "    if ouvrage == ouvrage2\n",
    "        ind = findfirst(df02[:] .== date)\n",
    "        surverse[i] = Y2[ind]\n",
    "    end\n",
    "    if ouvrage == ouvrage3\n",
    "        ind = findfirst(df03[:] .== date)\n",
    "        surverse[i] = Y3[ind]\n",
    "    end\n",
    "    if ouvrage == ouvrage4\n",
    "        ind = findfirst(df04[:] .== date)\n",
    "        surverse[i] = Y4[ind]\n",
    "    end\n",
    "    if ouvrage == ouvrage5\n",
    "        ind = findfirst(df05[:] .== date)\n",
    "        surverse[i] = Y5[ind]\n",
    "    end\n",
    "end"
   ]
  },
  {
   "cell_type": "code",
   "execution_count": 26,
   "metadata": {},
   "outputs": [],
   "source": [
    "#print(test)"
   ]
  },
  {
   "cell_type": "code",
   "execution_count": 36,
   "metadata": {},
   "outputs": [
    {
     "data": {
      "text/plain": [
       "\"sampleSubmission.csv\""
      ]
     },
     "execution_count": 36,
     "metadata": {},
     "output_type": "execute_result"
    }
   ],
   "source": [
    "#surverse = rand(n0) .> .5\n",
    "\n",
    "# Création du fichier sampleSubmission.csv pour soumettre sur Kaggle\n",
    "ID = test[:,:NO_OUVRAGE].*\"_\".*string.(test[:,:DATE])\n",
    "sampleSubmission = DataFrame(ID = ID, Surverse=surverse)\n",
    "CSV.write(\"sampleSubmission.csv\",sampleSubmission)\n",
    "\n",
    "# Vous pouvez par la suite déposer le fichier sampleSubmission.csv sur Kaggle.\n"
   ]
  },
  {
   "cell_type": "code",
   "execution_count": null,
   "metadata": {},
   "outputs": [],
   "source": []
  },
  {
   "cell_type": "code",
   "execution_count": null,
   "metadata": {},
   "outputs": [],
   "source": []
  }
 ],
 "metadata": {
  "@webio": {
   "lastCommId": null,
   "lastKernelId": null
  },
  "kernelspec": {
   "display_name": "Julia 1.2.0",
   "language": "julia",
   "name": "julia-1.2"
  },
  "language_info": {
   "file_extension": ".jl",
   "mimetype": "application/julia",
   "name": "julia",
   "version": "1.2.0"
  }
 },
 "nbformat": 4,
 "nbformat_minor": 2
}
